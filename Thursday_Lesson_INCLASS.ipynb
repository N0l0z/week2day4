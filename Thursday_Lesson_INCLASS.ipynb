{
 "cells": [
  {
   "cell_type": "markdown",
   "metadata": {},
   "source": [
    "# Object-Oriented-Programming (OOP)"
   ]
  },
  {
   "cell_type": "markdown",
   "metadata": {},
   "source": [
    "## Tasks Today:\n",
    "\n",
    "   \n",
    "\n",
    "1) <b>Creating a Class (Initializing/Declaring)</b> <br>\n",
    "2) <b>Using a Class (Instantiating)</b> <br>\n",
    " &nbsp;&nbsp;&nbsp;&nbsp; a) Creating One Instance <br>\n",
    " &nbsp;&nbsp;&nbsp;&nbsp; b) Creating Multiple Instances <br>\n",
    " &nbsp;&nbsp;&nbsp;&nbsp; c) In-Class Exercise #1 - Create a Class 'Car' and instantiate three different makes of cars <br>\n",
    "3) <b>The \\__init\\__() Method</b> <br>\n",
    " &nbsp;&nbsp;&nbsp;&nbsp; a) The 'self' Attribute <br>\n",
    "4) <b>Class Attributes</b> <br>\n",
    " &nbsp;&nbsp;&nbsp;&nbsp; a) Initializing Attributes <br>\n",
    " &nbsp;&nbsp;&nbsp;&nbsp; b) Setting an Attribute Outside of the \\__init\\__() Method <br>\n",
    " &nbsp;&nbsp;&nbsp;&nbsp; c) Setting Defaults for Attributes <br>\n",
    " &nbsp;&nbsp;&nbsp;&nbsp; d) Accessing Class Attributes <br>\n",
    " &nbsp;&nbsp;&nbsp;&nbsp; e) Changing Class Attributes <br>\n",
    " &nbsp;&nbsp;&nbsp;&nbsp; f) In-Class Exercise #2 - Add a color and wheels attribute to your 'Car' class <br>\n",
    "5) <b>Class Methods</b> <br>\n",
    " &nbsp;&nbsp;&nbsp;&nbsp; a) Creating <br>\n",
    " &nbsp;&nbsp;&nbsp;&nbsp; b) Calling <br>\n",
    " &nbsp;&nbsp;&nbsp;&nbsp; c) Modifying an Attribute's Value Through a Method <br>\n",
    " &nbsp;&nbsp;&nbsp;&nbsp; d) Incrementing an Attribute's Value Through a Method <br>\n",
    " &nbsp;&nbsp;&nbsp;&nbsp; e) In-Class Exercise #3 - Add a method that prints the cars color and wheel number, then call them <br>\n",
    "6) <b>Inheritance</b> <br>\n",
    " &nbsp;&nbsp;&nbsp;&nbsp; a) Syntax for Inheriting from a Parent Class <br>\n",
    " &nbsp;&nbsp;&nbsp;&nbsp; b) The \\__init\\__() Method for a Child Class (super()) <br>\n",
    " &nbsp;&nbsp;&nbsp;&nbsp; c) Defining Attributes and Methods for the Child Class <br>\n",
    " &nbsp;&nbsp;&nbsp;&nbsp; d) Method Overriding <br>\n",
    " &nbsp;&nbsp;&nbsp;&nbsp; e) In-Class Exercise #4 - Create a class 'Ford' that inherits from 'Car' class and initialize it as a Blue Ford Explorer with 4 wheels using the super() method <br>\n",
    "7) <b>Classes as Attributes</b> <br>\n",
    "8) <b>Exercises</b> <br>\n",
    " &nbsp;&nbsp;&nbsp;&nbsp; a) Exercise #1 - Turn the shopping cart program from yesterday into an object-oriented program <br>"
   ]
  },
  {
   "cell_type": "markdown",
   "metadata": {},
   "source": [
    "## Creating a Class (Initializing/Declaring)\n",
    "<p>When creating a class, function, or even a variable you are initializing that object. Initializing and Declaring occur at the same time in Python, whereas in lower level languages you have to declare an object before initializing it. This is the first step in the process of using a class.</p>"
   ]
  },
  {
   "cell_type": "code",
   "execution_count": 15,
   "metadata": {},
   "outputs": [],
   "source": [
    "class Car():\n",
    "    wheels = 4\n",
    "    color = 'blue'"
   ]
  },
  {
   "cell_type": "markdown",
   "metadata": {},
   "source": [
    "## Using a Class (Instantiating)\n",
    "<p>The process of creating a class is called <i>Instantiating</i>. Each time you create a variable of that type of class, it is referred to as an <i>Instance</i> of that class. This is the second step in the process of using a class.</p>"
   ]
  },
  {
   "cell_type": "markdown",
   "metadata": {},
   "source": [
    "##### Creating One Instance"
   ]
  },
  {
   "cell_type": "code",
   "execution_count": 17,
   "metadata": {},
   "outputs": [
    {
     "name": "stdout",
     "output_type": "stream",
     "text": [
      "4\n",
      "4\n"
     ]
    }
   ],
   "source": [
    "ford = Car()\n",
    "print(ford.wheels)\n",
    "\n",
    "diff_ford = {\n",
    "    'wheels': 4\n",
    "}\n",
    "print(diff_ford['wheels'])"
   ]
  },
  {
   "cell_type": "markdown",
   "metadata": {},
   "source": [
    "##### Creating Multiple Instances"
   ]
  },
  {
   "cell_type": "code",
   "execution_count": null,
   "metadata": {},
   "outputs": [],
   "source": [
    "chevy = Car()\n",
    "honda = Car()\n",
    "porsche = Car()\n",
    "print(chevy.wheels, honda.wheels)\n",
    "\n",
    "print(chevy)\n",
    "print(type(chevy))"
   ]
  },
  {
   "cell_type": "markdown",
   "metadata": {},
   "source": [
    "##### In-Class Exercise #1 - Create a Class 'Car' and Instantiate three different makes of cars"
   ]
  },
  {
   "cell_type": "code",
   "execution_count": null,
   "metadata": {},
   "outputs": [],
   "source": [
    "class Student():\n",
    "    attends_class = True\n",
    "    weeks_exp = 2.5\n",
    "    \n",
    "parker = Student()\n",
    "judah = Student()\n",
    "cameron = Student()"
   ]
  },
  {
   "cell_type": "markdown",
   "metadata": {},
   "source": [
    "## The \\__init\\__() Method <br>\n",
    "<p>This method is used in almost every created class, and called only once upon the creation of the class instance. This method will initialize all variables needed for the object.</p>"
   ]
  },
  {
   "cell_type": "code",
   "execution_count": 8,
   "metadata": {},
   "outputs": [
    {
     "data": {
      "text/plain": [
       "True"
      ]
     },
     "execution_count": 8,
     "metadata": {},
     "output_type": "execute_result"
    }
   ],
   "source": [
    "# _ _init_ _(self)   --> syntax\n",
    "class Instructor():\n",
    "    attends_class = True\n",
    "    \n",
    "    def __init__(self, name, brain=True):\n",
    "        self.name = name\n",
    "        self.languages = ['python', 'go']\n",
    "        self.brain = brain\n",
    "        \n",
    "one = Instructor('Dylan')\n",
    "one.name\n",
    "two = Instructor(\"Brandt\")\n",
    "two.name\n",
    "two.languages\n",
    "two.attends_class"
   ]
  },
  {
   "cell_type": "markdown",
   "metadata": {},
   "source": [
    "##### The 'self' Attribute <br>\n",
    "<p>This attribute is required to keep track of specific instance's attributes. Without the self attribute, the program would not know how to reference or keep track of an instance's attributes.</p>"
   ]
  },
  {
   "cell_type": "code",
   "execution_count": null,
   "metadata": {},
   "outputs": [],
   "source": [
    "some_list = [1,2, 3,4]\n",
    "# print(type(some_list))\n",
    "# help(list)"
   ]
  },
  {
   "cell_type": "markdown",
   "metadata": {},
   "source": [
    "## Class Attributes <br>\n",
    "<p>While variables are inside of a class, they are referred to as attributes and not variables. When someone says 'attribute' you know they're speaking about a class. Attributes can be initialized through the init method, or outside of it.</p>"
   ]
  },
  {
   "cell_type": "markdown",
   "metadata": {},
   "source": [
    "##### Initializing Attributes"
   ]
  },
  {
   "cell_type": "code",
   "execution_count": null,
   "metadata": {},
   "outputs": [],
   "source": [
    "# how to set up class exmpl\n",
    "class Whatever():\n",
    "    def __init__(self):\n",
    "        "
   ]
  },
  {
   "cell_type": "markdown",
   "metadata": {},
   "source": [
    "##### Accessing Class Attributes"
   ]
  },
  {
   "cell_type": "code",
   "execution_count": 9,
   "metadata": {
    "scrolled": true
   },
   "outputs": [
    {
     "data": {
      "text/plain": [
       "True"
      ]
     },
     "execution_count": 9,
     "metadata": {},
     "output_type": "execute_result"
    }
   ],
   "source": [
    "# See Above\n",
    "\n",
    "one.attends_class"
   ]
  },
  {
   "cell_type": "markdown",
   "metadata": {},
   "source": [
    "##### Setting Defaults for Attributes"
   ]
  },
  {
   "cell_type": "code",
   "execution_count": null,
   "metadata": {},
   "outputs": [],
   "source": []
  },
  {
   "cell_type": "markdown",
   "metadata": {},
   "source": [
    "##### Changing Class Attributes <br>\n",
    "<p>Keep in mind there are global class attributes and then there are attributes only available to each class instance which won't effect other classes.</p>"
   ]
  },
  {
   "cell_type": "code",
   "execution_count": 18,
   "metadata": {},
   "outputs": [
    {
     "name": "stdout",
     "output_type": "stream",
     "text": [
      "Brandt\n",
      "4\n",
      "1\n",
      "4\n"
     ]
    }
   ],
   "source": [
    "two.brain = False\n",
    "print(two.name)\n",
    "two.brain\n",
    "print(chevy.wheels)\n",
    "chevy.wheels= 1\n",
    "print(chevy.wheels)\n",
    "print(ford.wheels)"
   ]
  },
  {
   "cell_type": "code",
   "execution_count": null,
   "metadata": {},
   "outputs": [],
   "source": [
    "porsche.convertible = True\n",
    "porsche.convertible\n",
    "porsche.zebra = '800 lbs'\n",
    "porsche.zebra\n",
    "# honda.zebra"
   ]
  },
  {
   "cell_type": "markdown",
   "metadata": {},
   "source": [
    "##### In-Class Exercise #2 - Add a doors and seats attribute to your 'Car' class then print out two different instances with different doors and seats"
   ]
  },
  {
   "cell_type": "code",
   "execution_count": 72,
   "metadata": {},
   "outputs": [
    {
     "name": "stdout",
     "output_type": "stream",
     "text": [
      "15\n"
     ]
    }
   ],
   "source": [
    "class Bar():\n",
    "    \n",
    "    def __init__(self,):\n",
    "        self.drinks = True\n",
    "        self.seats = 15\n",
    "        self.food = True\n",
    "\n",
    "charlies = Bar()\n",
    "toms = Bar()\n",
    "jerries = Bar()\n",
    "\n",
    "print(charlies.seats)\n",
    "\n",
    "#    def __init__(self, seats, doors, food)  \n",
    "#__init__ is a special method known as the constructor. \n",
    "#It is automatically called when a new instance (object) of a class is created. \n",
    "#The __init__ method allows you to initialize the attributes (variables) of an object.\n",
    "#\n",
    "#    def __init__(self, hightops):\n",
    "#    selt.hightops = hightops\n",
    "\n",
    "\n",
    "#jimmies = Bar(5)\n",
    "\n",
    "#print(jimmies.hightops)\n",
    "class Pickup():\n",
    "    \"\"\"\n",
    "    This is our hillbilly shopping cart aka a pickup truck\n",
    "    \"\"\"\n",
    "    \n",
    "    def __init__(self, gas_tank):\n",
    "        self.wheels = 4\n",
    "        self.gas_tank = gas_tank\n",
    "        self.bed = []\n",
    "\n",
    "        \n",
    "    def check_gas(self):\n",
    "        print(self.gas_tank)\n",
    "        \n",
    "    def fill_up(self):\n",
    "        gallons = int(input('how much did you put in?'))\n",
    "        self.gas_tank += gallons\n",
    "        \n",
    "    def chuck_in(self):\n",
    "        item = input('what did you throw in from off the road?')\n",
    "        self.bed.append(item)\n",
    "        print(f'threw {item} in the back of the truck')\n",
    "        print('everything back there:', self.bed)\n",
    "        \n",
    "    def dump(self):\n",
    "        self.bed = []\n",
    "        print('dumped it all, bed\\'s empty')  \n",
    "        \n",
    "    def runner(self):\n",
    "        while True:\n",
    "            menu = input('What do you do want to do?  f/fill gas, a/add item, c/check gas, d/dump, q/quit')\n",
    "            if menu == 'f':\n",
    "                self.fill_up()\n",
    "            elif menu == 'a':\n",
    "                self.chuck_in()\n",
    "            elif menu == 'c':\n",
    "                self.check_gas()\n",
    "            elif menu == 'd':\n",
    "                self.dump()\n",
    "            elif menu == 'q':\n",
    "                print('thanks for riding with us!')\n",
    "                break\n",
    "\n",
    "\n",
    "\n",
    "\n"
   ]
  },
  {
   "cell_type": "code",
   "execution_count": 73,
   "metadata": {},
   "outputs": [
    {
     "name": "stdout",
     "output_type": "stream",
     "text": [
      "20\n",
      "how much did you put in?10\n",
      "30\n",
      "what did you throw in from off the road?roadkill\n",
      "threw roadkill in the back of the truck\n",
      "everything back there: ['roadkill']\n",
      "what did you throw in from off the road?everything\n",
      "threw everything in the back of the truck\n",
      "everything back there: ['roadkill', 'everything']\n",
      "dumped it all, bed's empty\n"
     ]
    }
   ],
   "source": [
    "# See Above\n",
    "mater = Pickup(20)\n",
    "\n",
    "# mater.check_gas\n",
    "mater.check_gas()\n",
    "mater.fill_up()\n",
    "mater.check_gas()\n",
    "mater.chuck_in()\n",
    "mater.chuck_in()\n",
    "mater.dump()"
   ]
  },
  {
   "cell_type": "markdown",
   "metadata": {},
   "source": [
    "## Class Methods <br>\n",
    "<p>While inside of a class, functions are referred to as 'methods'. If you hear someone mention methods, they're speaking about classes. Methods are essentially functions, but only callable on the instances of a class.</p>"
   ]
  },
  {
   "cell_type": "markdown",
   "metadata": {},
   "source": [
    "##### Creating"
   ]
  },
  {
   "cell_type": "code",
   "execution_count": 60,
   "metadata": {},
   "outputs": [],
   "source": []
  },
  {
   "cell_type": "code",
   "execution_count": null,
   "metadata": {},
   "outputs": [],
   "source": [
    "#runner()"
   ]
  },
  {
   "cell_type": "code",
   "execution_count": null,
   "metadata": {},
   "outputs": [],
   "source": []
  },
  {
   "cell_type": "code",
   "execution_count": null,
   "metadata": {},
   "outputs": [],
   "source": []
  },
  {
   "cell_type": "code",
   "execution_count": null,
   "metadata": {},
   "outputs": [],
   "source": []
  },
  {
   "cell_type": "markdown",
   "metadata": {},
   "source": [
    "##### Calling"
   ]
  },
  {
   "cell_type": "code",
   "execution_count": null,
   "metadata": {},
   "outputs": [],
   "source": [
    "# See Above"
   ]
  },
  {
   "cell_type": "markdown",
   "metadata": {},
   "source": [
    "##### Modifying an Attribute's Value Through a Method"
   ]
  },
  {
   "cell_type": "code",
   "execution_count": null,
   "metadata": {},
   "outputs": [],
   "source": []
  },
  {
   "cell_type": "markdown",
   "metadata": {},
   "source": [
    "##### Incrementing an Attribute's Value Through a Method"
   ]
  },
  {
   "cell_type": "code",
   "execution_count": null,
   "metadata": {},
   "outputs": [],
   "source": []
  },
  {
   "cell_type": "markdown",
   "metadata": {},
   "source": [
    "##### In-Class Exercise #3 - Add a method that takes in three parameters of year, doors and seats and prints out a formatted print statement with make, model, year, seats, and doors"
   ]
  },
  {
   "cell_type": "code",
   "execution_count": null,
   "metadata": {},
   "outputs": [],
   "source": [
    "# Create class with 2 paramters inside of the __init__ which are make and model\n",
    "\n",
    "# Inside of the Car class create a method that has 4 parameter in total (self,year,door,seats)\n",
    "\n",
    "# Output: This car is from 2019 and is a Ford Expolorer and has 4 doors and 5 seats\n",
    "\n"
   ]
  },
  {
   "cell_type": "markdown",
   "metadata": {},
   "source": [
    "## Inheritance <br>\n",
    "<p>You can create a child-parent relationship between two classes by using inheritance. What this allows you to do is have overriding methods, but also inherit traits from the parent class. Think of it as an actual parent and child, the child will inherit the parent's genes, as will the classes in OOP</p>"
   ]
  },
  {
   "cell_type": "markdown",
   "metadata": {},
   "source": [
    "##### Syntax for Inheriting from a Parent Class"
   ]
  },
  {
   "cell_type": "code",
   "execution_count": null,
   "metadata": {},
   "outputs": [],
   "source": []
  },
  {
   "cell_type": "markdown",
   "metadata": {},
   "source": [
    "##### The \\__init\\__() Method for a Child Class - super()"
   ]
  },
  {
   "cell_type": "code",
   "execution_count": null,
   "metadata": {
    "scrolled": true
   },
   "outputs": [],
   "source": []
  },
  {
   "cell_type": "markdown",
   "metadata": {},
   "source": [
    "##### Defining Attributes and Methods for the Child Class"
   ]
  },
  {
   "cell_type": "code",
   "execution_count": null,
   "metadata": {},
   "outputs": [],
   "source": [
    "# See Above"
   ]
  },
  {
   "cell_type": "markdown",
   "metadata": {},
   "source": [
    "##### Method Overriding"
   ]
  },
  {
   "cell_type": "code",
   "execution_count": null,
   "metadata": {},
   "outputs": [],
   "source": [
    "# See Above"
   ]
  },
  {
   "cell_type": "markdown",
   "metadata": {},
   "source": [
    "## Classes as Attributes <br>\n",
    "<p>Classes can also be used as attributes within another class. This is useful in situations where you need to keep variables locally stored, instead of globally stored.</p>"
   ]
  },
  {
   "cell_type": "code",
   "execution_count": 123,
   "metadata": {},
   "outputs": [
    {
     "name": "stdout",
     "output_type": "stream",
     "text": [
      "took a breath\n",
      "None\n",
      "woof woof\n",
      "None\n",
      "took a breath\n",
      "None\n"
     ]
    },
    {
     "ename": "TypeError",
     "evalue": "Mammal.__init__() missing 2 required positional arguments: 'name' and 'species'",
     "output_type": "error",
     "traceback": [
      "\u001b[1;31m---------------------------------------------------------------------------\u001b[0m",
      "\u001b[1;31mTypeError\u001b[0m                                 Traceback (most recent call last)",
      "Cell \u001b[1;32mIn[123], line 43\u001b[0m\n\u001b[0;32m     40\u001b[0m \u001b[38;5;28mprint\u001b[39m(lassie\u001b[38;5;241m.\u001b[39mbark())\n\u001b[0;32m     41\u001b[0m \u001b[38;5;28mprint\u001b[39m(generic\u001b[38;5;241m.\u001b[39mbreathe())\n\u001b[1;32m---> 43\u001b[0m c \u001b[38;5;241m=\u001b[39m Cat()\n\u001b[0;32m     44\u001b[0m c\u001b[38;5;241m.\u001b[39mbreathe()\n\u001b[0;32m     46\u001b[0m \u001b[38;5;28;01mclass\u001b[39;00m \u001b[38;5;21;01mMutt\u001b[39;00m(Dog):\n",
      "\u001b[1;31mTypeError\u001b[0m: Mammal.__init__() missing 2 required positional arguments: 'name' and 'species'"
     ]
    }
   ],
   "source": [
    "class Mammal():\n",
    "    warm_blooded = True\n",
    "    \n",
    "    def __init__(self, name, species, legs=4):\n",
    "        self.name = name\n",
    "        self.species = species\n",
    "        self.legs = legs\n",
    "    \n",
    "    def breathe(self):\n",
    "        print('took a breath')\n",
    "        \n",
    "        \n",
    "class Cat(Mammal):\n",
    "    pass\n",
    "# Not messing with this one, same as parent class\n",
    "\n",
    "class Dog(Mammal):\n",
    "    loyal = True\n",
    "    \n",
    "    def bark(self):\n",
    "        print('woof woof')\n",
    "        \n",
    "    def print_info(self):\n",
    "        print(f\"This is a dog and loyalty is {self.loyal}\")\n",
    "        \n",
    "class Mutt(Dog):\n",
    "    ugly = \"Never\"\n",
    "    \n",
    "    def __init__(self, name, species, tail, legs=4):\n",
    "        Dog.__init__(self, name, species, legs)\n",
    "        self.tail = tail\n",
    "    def wag(self):\n",
    "        print('tail goes back and forth')\n",
    "        \n",
    "lassie = Dog('Lassie', 'border collie')\n",
    "ugg = Mutt('Ugly', 'Mutt', 'cropped')\n",
    "generic = Mammal('Big John', 'Mammoth')\n",
    "\n",
    "print(ugg.breathe())\n",
    "print(lassie.bark())\n",
    "print(generic.breathe())\n",
    "\n",
    "c = Cat()\n",
    "c.breathe()\n",
    "\n",
    "class Mutt(Dog):\n",
    "    ugly = 'maybe a little'\n",
    "    \n",
    "    def __init__(self, name, species, tail, legs=4):\n",
    "        super().__init__(self, name, species, legs)\n",
    "        self.tail = tail\n",
    "        \n",
    "    def wag(self):\n",
    "        print('tail goes back and forth')\n",
    "        \n",
    "class Battery():\n",
    "    def __init__(self, cells):\n",
    "        self.amps = 30\n",
    "        self.cells = cells\n",
    "        \n",
    "class Elec_car(): \n",
    "    def __init__(self, make, model, battery):\n",
    "        self.make = make\n",
    "        self.model = model\n",
    "        self.battery = battery\n",
    "        \n",
    "    def print_info(self):\n",
    "        print(f\"This car is a {self.make} {self.model} featuring a battery with {self.battery.cells} pumping {self.battery.amps} amps\")\n",
    "batt = Battery(48)\n",
    "truck = Elec_car('Rivian', \"Lucid\", batt)\n",
    "\n",
    "truck.print_info()"
   ]
  },
  {
   "cell_type": "markdown",
   "metadata": {},
   "source": [
    "# Exercises"
   ]
  },
  {
   "cell_type": "markdown",
   "metadata": {},
   "source": [
    "### Exercise 1 - Turn the shopping cart program from yesterday into an object-oriented program\n",
    "\n",
    "The comments in the cell below are there as a guide for thinking about the problem. However, if you feel a different way is best for you and your own thought process, please do what feels best for you by all means."
   ]
  },
  {
   "cell_type": "code",
   "execution_count": 126,
   "metadata": {},
   "outputs": [],
   "source": [
    "# Create a class called cart that retains items and has methods to add, remove, and show\n",
    "\n",
    "class Cart():\n",
    "    \n",
    "    def __init__(self, full_cart):\n",
    "        self.full_cart = full_cart\n",
    "        self.empty_cart = []\n",
    "        \n",
    "    def Pending_Items(self):\n",
    "        print(self.full_cart)\n",
    "    \n",
    "    def Quantity_Items(self):\n",
    "        items = input('What should we add?')\n",
    "        self.full_cart += items\n",
    "        \n",
    "    def dump_Cart(self):\n",
    "        self.empty_cart = []\n",
    "        print('Tossed out! Cart empty.')\n",
    "    \n",
    "    def Checkout(self):\n",
    "        while True:\n",
    "            menu = input('Are you finished? y/CashOut, n/add items, v/See Cart, ')\n",
    "            if menu == 'n':\n",
    "                self.Quantity_Item()\n",
    "            elif menu == 'v':\n",
    "                self.Pending_Items()\n",
    "            elif menu == 'y':\n",
    "                print('Thank you for shopping!')\n",
    "                break\n",
    "    \n",
    "    "
   ]
  },
  {
   "cell_type": "markdown",
   "metadata": {},
   "source": [
    "### Exercise 2 - Write a Python class which has two methods get_String and print_String. get_String accept a string from the user and print_String print the string in upper case"
   ]
  },
  {
   "cell_type": "code",
   "execution_count": 142,
   "metadata": {},
   "outputs": [
    {
     "name": "stdout",
     "output_type": "stream",
     "text": [
      "drama\n",
      "<__main__.Movies object at 0x000001F1361A3450>\n"
     ]
    }
   ],
   "source": [
    "\n",
    "class Movies():\n",
    "    genre ='drama'\n",
    "    run_time = '145'\n",
    "    \n",
    "Mars = Movies()\n",
    "Apollo11 = Movies()\n",
    "\n",
    "def __init__(self, actors, producers):\n",
    "        self.actors = actors\n",
    "        self.producers = producers\n",
    "        \n",
    "print(Mars.genre)\n",
    "    \n",
    "Apollo11.genre = 'documentary'\n",
    "\n",
    "print(Apollo11)\n"
   ]
  }
 ],
 "metadata": {
  "kernelspec": {
   "display_name": "Python 3 (ipykernel)",
   "language": "python",
   "name": "python3"
  },
  "language_info": {
   "codemirror_mode": {
    "name": "ipython",
    "version": 3
   },
   "file_extension": ".py",
   "mimetype": "text/x-python",
   "name": "python",
   "nbconvert_exporter": "python",
   "pygments_lexer": "ipython3",
   "version": "3.11.5"
  }
 },
 "nbformat": 4,
 "nbformat_minor": 2
}
